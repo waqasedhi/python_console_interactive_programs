{
 "cells": [
  {
   "cell_type": "markdown",
   "metadata": {},
   "source": [
    "### BMI Calculator\n",
    "\n",
    "**Instructions**\n",
    "\n",
    "calculates the Body Mass Index (BMI) from a user's weight and height.\n",
    "\n",
    "The BMI is a measure of someone's weight taking into account their height. e.g. If a tall person and a short person both weight the same amount, the short person is usually more overweight.\n",
    "\n",
    "The BMI is calculated by dividing a person's weight (in kg) by the square of their height (in m):\n",
    "\n"
   ]
  },
  {
   "cell_type": "code",
   "execution_count": 5,
   "metadata": {},
   "outputs": [
    {
     "name": "stdout",
     "output_type": "stream",
     "text": [
      "User BMI is 26 with Height : 1.75 and weight : 80\n"
     ]
    }
   ],
   "source": [
    "# User input\n",
    "height = input(\"enter your height in m: \")\n",
    "weight = input(\"enter your weight in kg: \")\n",
    "\n",
    "# Change Type\n",
    "float_height=float(height)\n",
    "float_weight=float(weight)\n",
    "\n",
    "# Calculate BMI\n",
    "bmi= int(float_weight/(float_height**2))\n",
    "print(f'User BMI is {bmi} with Height : {height} and weight : {weight}')"
   ]
  },
  {
   "cell_type": "markdown",
   "metadata": {},
   "source": [
    "### Your Remaining Life in Weeks \n",
    "\n",
    "Instructions\n",
    "\n",
    "I was reading this article by Tim Urban - Your Life in Weeks and realised just how little time we actually have.\n",
    "\n",
    "[https://waitbutwhy.com/2014/05/life-weeks.html](https://waitbutwhy.com/2014/05/life-weeks.html)\n",
    "\n",
    "A program using maths and f-Strings that tells us how many days, weeks, months we have left if we live until 70 years old which is the average life in Pakistan.\n",
    "\n",
    "It will take your current age as the input and output a message with our life left in this format:\n",
    "\n",
    "You have x days, y weeks, and z months left.\n",
    "\n",
    "Where x, y and z are replaced with the actual calculated numbers.\n",
    "\n"
   ]
  },
  {
   "cell_type": "code",
   "execution_count": 6,
   "metadata": {},
   "outputs": [
    {
     "name": "stdout",
     "output_type": "stream",
     "text": [
      "You have 18615 days, 2652 weeks, and 612 months left\n"
     ]
    }
   ],
   "source": [
    "# User Input\n",
    "age = input(\"What is your current age? \")\n",
    "\n",
    "\n",
    "# Change the type\n",
    "int_age=int(age)\n",
    "\n",
    "life=90\n",
    "\n",
    "# left life calculation\n",
    "remain_life=life-int_age\n",
    "days=remain_life*365\n",
    "weeks= remain_life*52\n",
    "months=remain_life*12\n",
    "\n",
    "print(f\"You have {days} days, {weeks} weeks, and {months} months left\")\n"
   ]
  },
  {
   "cell_type": "markdown",
   "metadata": {},
   "source": [
    "### Bill and Tip Sharing Calculator\n",
    "\n",
    "Spliting Bill between friend is common but need mathametical calculations. A programe which make these calculation easy and hastle free. Take bill and tip amount and number of sharing persons.\n",
    " "
   ]
  },
  {
   "cell_type": "code",
   "execution_count": 8,
   "metadata": {},
   "outputs": [
    {
     "name": "stdout",
     "output_type": "stream",
     "text": [
      "welcome to bill and tip sharing calculator! \n",
      "Each person should pay: $35.4\n"
     ]
    }
   ],
   "source": [
    "# welcome note  \n",
    "print(\"welcome to bill and tip sharing calculator! \")\n",
    "# ask for bill amount\n",
    "bill_amount=float(input(\"what was the total bill?\\n $\"))\n",
    "# ask for tip persntage\n",
    "tip_persentage=float(input(\"what persentage tip would you like to give?\\n\"))\n",
    "# tip amount to calculate\n",
    "tip_amount=bill_amount*tip_persentage/100\n",
    "# ask sharing persons \n",
    "sharing_persons= float(input(\"how many people to split the bill?\\n\"))\n",
    "# sharing amount to calculate\n",
    "sharing_amount=(bill_amount+tip_amount)/sharing_persons\n",
    "\n",
    "# format rounding\n",
    "# sharing_amount='{: .2f}'.format(sharing_amount)\n",
    "\n",
    "\n",
    "# print sharing amount\n",
    "print(f\"Each person should pay: ${sharing_amount:.1f}\")"
   ]
  }
 ],
 "metadata": {
  "kernelspec": {
   "display_name": "Python 3",
   "language": "python",
   "name": "python3"
  },
  "language_info": {
   "codemirror_mode": {
    "name": "ipython",
    "version": 3
   },
   "file_extension": ".py",
   "mimetype": "text/x-python",
   "name": "python",
   "nbconvert_exporter": "python",
   "pygments_lexer": "ipython3",
   "version": "3.10.12"
  }
 },
 "nbformat": 4,
 "nbformat_minor": 2
}
