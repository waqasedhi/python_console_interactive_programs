{
 "cells": [
  {
   "cell_type": "markdown",
   "metadata": {},
   "source": [
    "### BMI Calculator\n",
    "\n",
    "**Instructions**\n",
    "\n",
    "calculates the Body Mass Index (BMI) from a user's weight and height.\n",
    "\n",
    "The BMI is a measure of someone's weight taking into account their height. e.g. If a tall person and a short person both weight the same amount, the short person is usually more overweight.\n",
    "\n",
    "The BMI is calculated by dividing a person's weight (in kg) by the square of their height (in m):\n",
    "\n",
    "Warning you should convert the result to a whole number.\n",
    "\n",
    "Example Input\n",
    "\n",
    "weight = 80\n",
    "height = 1.75\n",
    "\n",
    "Example Output\n",
    "\n",
    "80 ÷ (1.75 x 1.75) = 26.122448979591837\n",
    "26"
   ]
  },
  {
   "cell_type": "code",
   "execution_count": 5,
   "metadata": {},
   "outputs": [
    {
     "name": "stdout",
     "output_type": "stream",
     "text": [
      "User BMI is 26 with Height : 1.75 and weight : 80\n"
     ]
    }
   ],
   "source": [
    "# User input\n",
    "height = input(\"enter your height in m: \")\n",
    "weight = input(\"enter your weight in kg: \")\n",
    "\n",
    "# Change Type\n",
    "float_height=float(height)\n",
    "float_weight=float(weight)\n",
    "\n",
    "# Calculate BMI\n",
    "bmi= int(float_weight/(float_height**2))\n",
    "print(f'User BMI is {bmi} with Height : {height} and weight : {weight}')"
   ]
  },
  {
   "cell_type": "markdown",
   "metadata": {},
   "source": [
    "### "
   ]
  },
  {
   "cell_type": "code",
   "execution_count": null,
   "metadata": {},
   "outputs": [],
   "source": []
  }
 ],
 "metadata": {
  "kernelspec": {
   "display_name": "Python 3",
   "language": "python",
   "name": "python3"
  },
  "language_info": {
   "codemirror_mode": {
    "name": "ipython",
    "version": 3
   },
   "file_extension": ".py",
   "mimetype": "text/x-python",
   "name": "python",
   "nbconvert_exporter": "python",
   "pygments_lexer": "ipython3",
   "version": "3.10.12"
  }
 },
 "nbformat": 4,
 "nbformat_minor": 2
}
