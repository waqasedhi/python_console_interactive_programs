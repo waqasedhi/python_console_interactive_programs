{
 "cells": [
  {
   "cell_type": "code",
   "execution_count": 4,
   "metadata": {},
   "outputs": [
    {
     "name": "stdout",
     "output_type": "stream",
     "text": [
      "Brand name\n",
      "waqas loin\n"
     ]
    }
   ],
   "source": [
    "print(\"Brand name\")\n",
    "city_name = input(\"enter your city name? \") \n",
    "pet_name = input(\"enter you pet name? \")\n",
    "brand_name = city_name + \" \" + pet_name\n",
    "print(f\"{brand_name:}\")"
   ]
  }
 ],
 "metadata": {
  "kernelspec": {
   "display_name": "Python 3",
   "language": "python",
   "name": "python3"
  },
  "language_info": {
   "codemirror_mode": {
    "name": "ipython",
    "version": 3
   },
   "file_extension": ".py",
   "mimetype": "text/x-python",
   "name": "python",
   "nbconvert_exporter": "python",
   "pygments_lexer": "ipython3",
   "version": "3.10.12"
  }
 },
 "nbformat": 4,
 "nbformat_minor": 2
}
